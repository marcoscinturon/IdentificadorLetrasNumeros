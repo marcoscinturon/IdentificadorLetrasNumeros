{
 "cells": [
  {
   "cell_type": "code",
   "execution_count": 2,
   "metadata": {},
   "outputs": [],
   "source": [
    "import pandas as pd"
   ]
  },
  {
   "cell_type": "markdown",
   "metadata": {},
   "source": [
    "Algo curioso fue lo que ocurrió con el dataset 4 y el dataset 8. Que en ambos se tomó la misma cantidad de entradas, se hicieron las mismas iteraciones, se eligió el mismo Alpha, pero la exactitud en las pruebas fue muy diferente. La única diferencia fue que, aunque la cantidad de entradas era la misma, no se trataba de las mismas entradas: para entrenamiento4 se tomó de la columna 7 a la 21, mientras que para entrenamiento8 se tomó de la columna 10 a la 24. \n",
    "Mas curioso aun, fue que para entrenamiento4 hubo un costo final mas bajo (0.028821) que para entrenamiento8 (0.031695), y aún así la exactitud en la prueba4 fue peor que en la prueba8. De hecho el modelo definitivo fue lo que resultó usando Entrenamiento8.\n",
    "\n",
    "Todo esto se muestra a continuación."
   ]
  },
  {
   "cell_type": "code",
   "execution_count": 9,
   "metadata": {},
   "outputs": [
    {
     "data": {
      "text/html": [
       "<div>\n",
       "<style scoped>\n",
       "    .dataframe tbody tr th:only-of-type {\n",
       "        vertical-align: middle;\n",
       "    }\n",
       "\n",
       "    .dataframe tbody tr th {\n",
       "        vertical-align: top;\n",
       "    }\n",
       "\n",
       "    .dataframe thead th {\n",
       "        text-align: right;\n",
       "    }\n",
       "</style>\n",
       "<table border=\"1\" class=\"dataframe\">\n",
       "  <thead>\n",
       "    <tr style=\"text-align: right;\">\n",
       "      <th></th>\n",
       "      <th>csv entrenamiento</th>\n",
       "      <th>cantidad datos entrenamiento</th>\n",
       "      <th>csv prueba</th>\n",
       "      <th>cantidad datos prueba</th>\n",
       "      <th>cantidad entradas</th>\n",
       "      <th>iteraciones</th>\n",
       "      <th>Alpha</th>\n",
       "      <th>costo final</th>\n",
       "      <th>exactitud entrenamiento</th>\n",
       "      <th>exactitud prueba</th>\n",
       "    </tr>\n",
       "  </thead>\n",
       "  <tbody>\n",
       "    <tr>\n",
       "      <th>19</th>\n",
       "      <td>Entrenamiento4</td>\n",
       "      <td>42</td>\n",
       "      <td>Prueba4</td>\n",
       "      <td>18</td>\n",
       "      <td>15</td>\n",
       "      <td>5001</td>\n",
       "      <td>0.5</td>\n",
       "      <td>0.028821</td>\n",
       "      <td>100.0</td>\n",
       "      <td>77.777778</td>\n",
       "    </tr>\n",
       "    <tr>\n",
       "      <th>20</th>\n",
       "      <td>Entrenamiento8</td>\n",
       "      <td>42</td>\n",
       "      <td>Prueba8</td>\n",
       "      <td>18</td>\n",
       "      <td>15</td>\n",
       "      <td>5001</td>\n",
       "      <td>0.5</td>\n",
       "      <td>0.031695</td>\n",
       "      <td>100.0</td>\n",
       "      <td>100.000000</td>\n",
       "    </tr>\n",
       "  </tbody>\n",
       "</table>\n",
       "</div>"
      ],
      "text/plain": [
       "   csv entrenamiento  cantidad datos entrenamiento csv prueba  \\\n",
       "19    Entrenamiento4                            42    Prueba4   \n",
       "20    Entrenamiento8                            42    Prueba8   \n",
       "\n",
       "    cantidad datos prueba  cantidad entradas  iteraciones  Alpha  costo final  \\\n",
       "19                     18                 15         5001    0.5     0.028821   \n",
       "20                     18                 15         5001    0.5     0.031695   \n",
       "\n",
       "    exactitud entrenamiento  exactitud prueba  \n",
       "19                    100.0         77.777778  \n",
       "20                    100.0        100.000000  "
      ]
     },
     "execution_count": 9,
     "metadata": {},
     "output_type": "execute_result"
    }
   ],
   "source": [
    "df = pd.read_csv(\"informacion/informacion.csv\")\n",
    "dfLastTwoRows = df[df.shape[0]-2:df.shape[0]]\n",
    "dfLastTwoRows"
   ]
  },
  {
   "cell_type": "markdown",
   "metadata": {},
   "source": [
    "Otra cosa curiosa fue que en el dataset 2 y en el dataset 3, la exactitud de las pruebas siempre fue el mismo sin importar lo que modificara. Primero se intentó con Entrenamiento2 que tiene las columnas de la 7 a la 17, y luego con Entrenamiento3 que tiene dos columnas mas y el resto son las mismas."
   ]
  },
  {
   "cell_type": "code",
   "execution_count": 14,
   "metadata": {},
   "outputs": [
    {
     "name": "stdout",
     "output_type": "stream",
     "text": [
      "notar que la exactitud de la prueba no cambia\n"
     ]
    },
    {
     "data": {
      "text/html": [
       "<div>\n",
       "<style scoped>\n",
       "    .dataframe tbody tr th:only-of-type {\n",
       "        vertical-align: middle;\n",
       "    }\n",
       "\n",
       "    .dataframe tbody tr th {\n",
       "        vertical-align: top;\n",
       "    }\n",
       "\n",
       "    .dataframe thead th {\n",
       "        text-align: right;\n",
       "    }\n",
       "</style>\n",
       "<table border=\"1\" class=\"dataframe\">\n",
       "  <thead>\n",
       "    <tr style=\"text-align: right;\">\n",
       "      <th></th>\n",
       "      <th>csv entrenamiento</th>\n",
       "      <th>cantidad datos entrenamiento</th>\n",
       "      <th>csv prueba</th>\n",
       "      <th>cantidad datos prueba</th>\n",
       "      <th>cantidad entradas</th>\n",
       "      <th>iteraciones</th>\n",
       "      <th>Alpha</th>\n",
       "      <th>costo final</th>\n",
       "      <th>exactitud entrenamiento</th>\n",
       "      <th>exactitud prueba</th>\n",
       "    </tr>\n",
       "  </thead>\n",
       "  <tbody>\n",
       "    <tr>\n",
       "      <th>3</th>\n",
       "      <td>Entrenamiento2</td>\n",
       "      <td>42</td>\n",
       "      <td>Prueba2</td>\n",
       "      <td>18</td>\n",
       "      <td>11</td>\n",
       "      <td>4001</td>\n",
       "      <td>0.05</td>\n",
       "      <td>0.444999</td>\n",
       "      <td>97.619048</td>\n",
       "      <td>94.444444</td>\n",
       "    </tr>\n",
       "    <tr>\n",
       "      <th>4</th>\n",
       "      <td>Entrenamiento2</td>\n",
       "      <td>42</td>\n",
       "      <td>Prueba2</td>\n",
       "      <td>18</td>\n",
       "      <td>11</td>\n",
       "      <td>4001</td>\n",
       "      <td>0.30</td>\n",
       "      <td>0.164389</td>\n",
       "      <td>100.000000</td>\n",
       "      <td>94.444444</td>\n",
       "    </tr>\n",
       "    <tr>\n",
       "      <th>5</th>\n",
       "      <td>Entrenamiento2</td>\n",
       "      <td>42</td>\n",
       "      <td>Prueba2</td>\n",
       "      <td>18</td>\n",
       "      <td>11</td>\n",
       "      <td>5001</td>\n",
       "      <td>0.30</td>\n",
       "      <td>0.139866</td>\n",
       "      <td>100.000000</td>\n",
       "      <td>94.444444</td>\n",
       "    </tr>\n",
       "    <tr>\n",
       "      <th>0</th>\n",
       "      <td>Entrenamiento3</td>\n",
       "      <td>42</td>\n",
       "      <td>Prueba3</td>\n",
       "      <td>18</td>\n",
       "      <td>13</td>\n",
       "      <td>4001</td>\n",
       "      <td>0.50</td>\n",
       "      <td>0.119603</td>\n",
       "      <td>100.000000</td>\n",
       "      <td>94.444444</td>\n",
       "    </tr>\n",
       "    <tr>\n",
       "      <th>6</th>\n",
       "      <td>Entrenamiento3</td>\n",
       "      <td>42</td>\n",
       "      <td>Prueba3</td>\n",
       "      <td>18</td>\n",
       "      <td>13</td>\n",
       "      <td>5001</td>\n",
       "      <td>0.30</td>\n",
       "      <td>0.146338</td>\n",
       "      <td>100.000000</td>\n",
       "      <td>94.444444</td>\n",
       "    </tr>\n",
       "    <tr>\n",
       "      <th>7</th>\n",
       "      <td>Entrenamiento3</td>\n",
       "      <td>42</td>\n",
       "      <td>Prueba3</td>\n",
       "      <td>18</td>\n",
       "      <td>13</td>\n",
       "      <td>5001</td>\n",
       "      <td>0.50</td>\n",
       "      <td>0.101399</td>\n",
       "      <td>100.000000</td>\n",
       "      <td>94.444444</td>\n",
       "    </tr>\n",
       "  </tbody>\n",
       "</table>\n",
       "</div>"
      ],
      "text/plain": [
       "  csv entrenamiento  cantidad datos entrenamiento csv prueba  \\\n",
       "3    Entrenamiento2                            42    Prueba2   \n",
       "4    Entrenamiento2                            42    Prueba2   \n",
       "5    Entrenamiento2                            42    Prueba2   \n",
       "0    Entrenamiento3                            42    Prueba3   \n",
       "6    Entrenamiento3                            42    Prueba3   \n",
       "7    Entrenamiento3                            42    Prueba3   \n",
       "\n",
       "   cantidad datos prueba  cantidad entradas  iteraciones  Alpha  costo final  \\\n",
       "3                     18                 11         4001   0.05     0.444999   \n",
       "4                     18                 11         4001   0.30     0.164389   \n",
       "5                     18                 11         5001   0.30     0.139866   \n",
       "0                     18                 13         4001   0.50     0.119603   \n",
       "6                     18                 13         5001   0.30     0.146338   \n",
       "7                     18                 13         5001   0.50     0.101399   \n",
       "\n",
       "   exactitud entrenamiento  exactitud prueba  \n",
       "3                97.619048         94.444444  \n",
       "4               100.000000         94.444444  \n",
       "5               100.000000         94.444444  \n",
       "0               100.000000         94.444444  \n",
       "6               100.000000         94.444444  \n",
       "7               100.000000         94.444444  "
      ]
     },
     "execution_count": 14,
     "metadata": {},
     "output_type": "execute_result"
    }
   ],
   "source": [
    "df2 = df.loc[df[\"csv entrenamiento\"]==\"Entrenamiento2\"]\n",
    "df3 = df.loc[df[\"csv entrenamiento\"]==\"Entrenamiento3\" ]\n",
    "df2y3 = df2.append(df3)\n",
    "print(\"notar que la exactitud de la prueba no cambia\")\n",
    "df2y3"
   ]
  },
  {
   "cell_type": "markdown",
   "metadata": {},
   "source": [
    "Al parecer las columnas antes de la 10 estaban obstaculizando el aprendizaje, pero no fue posible determinar la razón de ello. "
   ]
  },
  {
   "cell_type": "markdown",
   "metadata": {},
   "source": [
    "Queda para destacar la forma como fue diseñado el proyecto, con todos los csv creados, pues permitía hacer un mapeo de todo lo que se intentó y lo que se podía intentar."
   ]
  },
  {
   "cell_type": "markdown",
   "metadata": {},
   "source": [
    "Lamentablemete, ya para hablar de las dificultades, se perdió mucha información de varios procesos porque cada vez que se abría el proyecto, el dataset informacion.csv se volvía a crear desde cero eliminando todo lo que ya había guardado. Para cuando el error fue notado ya se había perdido mucha información. "
   ]
  }
 ],
 "metadata": {
  "kernelspec": {
   "display_name": "Python 3",
   "language": "python",
   "name": "python3"
  },
  "language_info": {
   "codemirror_mode": {
    "name": "ipython",
    "version": 3
   },
   "file_extension": ".py",
   "mimetype": "text/x-python",
   "name": "python",
   "nbconvert_exporter": "python",
   "pygments_lexer": "ipython3",
   "version": "3.7.6"
  }
 },
 "nbformat": 4,
 "nbformat_minor": 4
}
