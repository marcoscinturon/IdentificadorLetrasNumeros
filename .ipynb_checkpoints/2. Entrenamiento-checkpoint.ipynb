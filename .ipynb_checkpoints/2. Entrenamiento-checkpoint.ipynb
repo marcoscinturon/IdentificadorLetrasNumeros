{
 "cells": [
  {
   "cell_type": "code",
   "execution_count": 80,
   "metadata": {},
   "outputs": [],
   "source": [
    "import numpy as np\n",
    "import pandas as pd\n",
    "import matplotlib.pyplot as plt"
   ]
  },
  {
   "cell_type": "code",
   "execution_count": 81,
   "metadata": {},
   "outputs": [],
   "source": [
    "def inicializarPesos(x):\n",
    "    w = np.zeros((x.shape[1],1))\n",
    "    b = 0\n",
    "    return w,b\n",
    "\n",
    "def propagacionAdelante(w,b,x):\n",
    "    z=np.dot(w.T,x.T)+b\n",
    "    a = 1/(1+np.exp(-z))\n",
    "    return a\n",
    "\n",
    "def calcularCosto(y,a,m):\n",
    "    costo = -np.sum(y*np.log(a)+(1-y)*np.log(1-a))/m \n",
    "    return costo\n",
    "\n",
    "def propagacionAtras(w,b,x,y,a,m):\n",
    "    dw = np.matmul(x.T,(a-y).T)/m\n",
    "    db = np.sum(a-y)/m\n",
    "    w = w-aprendizaje*dw\n",
    "    b = b-aprendizaje*db\n",
    "    return w,b\n",
    "\n",
    "def predecir(w, b, x):\n",
    "    a=propagacionAdelante(w,b,x)\n",
    "    yPred = np.zeros((1,x.shape[0]))\n",
    "    yPred[a>0.5]=1\n",
    "    return yPred\n",
    "\n",
    "def calcularExactitud(yPred,y):\n",
    "    return (100 - np.mean(np.abs(yPred - y)) * 100)\n",
    "\n",
    "def graficarCostos(costos):\n",
    "    plt.plot(np.arange(0,len(costos))*100,costos)\n",
    "    plt.title('Funcion de costo vs iteraciones')\n",
    "    plt.xlabel('Iteraciones')\n",
    "    plt.ylabel('Costo (error)')\n",
    "    plt.show() \n"
   ]
  },
  {
   "cell_type": "code",
   "execution_count": 88,
   "metadata": {},
   "outputs": [
    {
     "name": "stdin",
     "output_type": "stream",
     "text": [
      "ingresar número de los csv:  8\n"
     ]
    }
   ],
   "source": [
    "num = int(input(\"ingresar número de los csv: \"))\n",
    "\n",
    "dfTrain = pd.read_csv(\"datasets/Entrenamiento{}.csv\".format(num))\n",
    "dfTest = pd.read_csv(\"datasets/Prueba{}.csv\".format(num))\n",
    "xTrain = dfTrain[dfTrain.columns[0:-1]]\n",
    "yTrain = dfTrain[\"category\"]\n",
    "xTest = dfTest[dfTest.columns[0:-1]] \n",
    "yTest = dfTest[\"category\"]\n",
    "\n",
    "xTrain = xTrain.to_numpy()\n",
    "xTest = xTest.to_numpy()\n",
    "yTrain = yTrain.to_numpy()\n",
    "yTest = yTest.to_numpy()\n",
    "yTrain = yTrain.reshape(1,yTrain.shape[0])\n",
    "yTest = yTest.reshape(1,yTest.shape[0])"
   ]
  },
  {
   "cell_type": "code",
   "execution_count": 89,
   "metadata": {},
   "outputs": [],
   "source": [
    "m = xTrain.shape[1]"
   ]
  },
  {
   "cell_type": "code",
   "execution_count": 90,
   "metadata": {},
   "outputs": [
    {
     "name": "stdout",
     "output_type": "stream",
     "text": [
      "Costo despues de la iteracion 0: 1.9408121055678467\n",
      "Costo despues de la iteracion 100: 0.4615518238952242\n",
      "Costo despues de la iteracion 200: 0.33536759490805584\n",
      "Costo despues de la iteracion 300: 0.27210151969948443\n",
      "Costo despues de la iteracion 400: 0.23133889754556086\n",
      "Costo despues de la iteracion 500: 0.2020934545836525\n",
      "Costo despues de la iteracion 600: 0.17979972371202643\n",
      "Costo despues de la iteracion 700: 0.16212197791244784\n",
      "Costo despues de la iteracion 800: 0.14770595953873372\n",
      "Costo despues de la iteracion 900: 0.13569806396432071\n",
      "Costo despues de la iteracion 1000: 0.12552725785728389\n",
      "Costo despues de la iteracion 1100: 0.11679415714277239\n",
      "Costo despues de la iteracion 1200: 0.10920960668950637\n",
      "Costo despues de la iteracion 1300: 0.10255837625741976\n",
      "Costo despues de la iteracion 1400: 0.09667656817136616\n",
      "Costo despues de la iteracion 1500: 0.0914369617958819\n",
      "Costo despues de la iteracion 1600: 0.0867391762512879\n",
      "Costo despues de la iteracion 1700: 0.08250287574733044\n",
      "Costo despues de la iteracion 1800: 0.07866296091021795\n",
      "Costo despues de la iteracion 1900: 0.07516609345942796\n",
      "Costo despues de la iteracion 2000: 0.07196813807896361\n",
      "Costo despues de la iteracion 2100: 0.06903224872837208\n",
      "Costo despues de la iteracion 2200: 0.06632741628649176\n",
      "Costo despues de la iteracion 2300: 0.06382735197874201\n",
      "Costo despues de la iteracion 2400: 0.06150961887229093\n",
      "Costo despues de la iteracion 2500: 0.05935494911676098\n",
      "Costo despues de la iteracion 2600: 0.057346701973473246\n",
      "Costo despues de la iteracion 2700: 0.05547042975348471\n",
      "Costo despues de la iteracion 2800: 0.05371352731355689\n",
      "Costo despues de la iteracion 2900: 0.052064946866816446\n",
      "Costo despues de la iteracion 3000: 0.05051496429483966\n",
      "Costo despues de la iteracion 3100: 0.04905498639906982\n",
      "Costo despues de la iteracion 3200: 0.047677390941600874\n",
      "Costo despues de la iteracion 3300: 0.04637539313312229\n",
      "Costo despues de la iteracion 3400: 0.04514293359342201\n",
      "Costo despues de la iteracion 3500: 0.043974583853549465\n",
      "Costo despues de la iteracion 3600: 0.042865466271830424\n",
      "Costo despues de la iteracion 3700: 0.04181118585863537\n",
      "Costo despues de la iteracion 3800: 0.04080777199115378\n",
      "Costo despues de la iteracion 3900: 0.03985162838187668\n",
      "Costo despues de la iteracion 4000: 0.03893948996717828\n",
      "Costo despues de la iteracion 4100: 0.03806838562340957\n",
      "Costo despues de la iteracion 4200: 0.037235605810944664\n",
      "Costo despues de la iteracion 4300: 0.036438674402067495\n",
      "Costo despues de la iteracion 4400: 0.0356753240744072\n",
      "Costo despues de la iteracion 4500: 0.03494347475399344\n",
      "Costo despues de la iteracion 4600: 0.034241214675661096\n",
      "Costo despues de la iteracion 4700: 0.033566783697223684\n",
      "Costo despues de la iteracion 4800: 0.03291855856047057\n",
      "Costo despues de la iteracion 4900: 0.03229503983893587\n",
      "Costo despues de la iteracion 5000: 0.031694840351367506\n"
     ]
    }
   ],
   "source": [
    "iteraciones=5001\n",
    "aprendizaje=0.5\n",
    "costos = [] \n",
    "w,b=inicializarPesos(xTrain)\n",
    "for i in range(iteraciones):\n",
    "    a=propagacionAdelante(w,b,xTrain)\n",
    "    costo=calcularCosto(yTrain,a,m)\n",
    "    w,b=propagacionAtras(w,b,xTrain,yTrain,a,m)\n",
    "    if i % 100 == 0:\n",
    "        costos.append(costo)\n",
    "        print (\"Costo despues de la iteracion {}: {}\".format(i, costo)) "
   ]
  },
  {
   "cell_type": "code",
   "execution_count": 91,
   "metadata": {},
   "outputs": [
    {
     "data": {
      "image/png": "[encoded data removed]",
      "text/plain": [
       "<Figure size 432x288 with 1 Axes>"
      ]
     },
     "metadata": {
      "needs_background": "light"
     },
     "output_type": "display_data"
    }
   ],
   "source": [
    "graficarCostos(costos)"
   ]
  },
  {
   "cell_type": "code",
   "execution_count": 92,
   "metadata": {},
   "outputs": [
    {
     "name": "stdout",
     "output_type": "stream",
     "text": [
      "Exactitud: 100.0%\n",
      "Exactitud: 100.0%\n"
     ]
    }
   ],
   "source": [
    "yPredTrain = predecir(w,b,xTrain)\n",
    "exactitudTrain=calcularExactitud(yPredTrain,yTrain)\n",
    "print(\"Exactitud: {}%\".format(exactitudTrain))\n",
    "\n",
    "yPredTest = predecir(w,b,xTest)\n",
    "exactitudTest=calcularExactitud(yPredTest,yTest)\n",
    "print(\"Exactitud: {}%\".format(exactitudTest))\n",
    "\n",
    "\n",
    "dfInfo = pd.read_csv(\"informacion/informacion.csv\")\n",
    "csvEntrenamiento = \"Entrenamiento{}\".format(num)\n",
    "cantidadDatosTrain = dfTrain.shape[0]\n",
    "csvPrueba = \"Prueba{}\".format(num)\n",
    "cantidadDatosTest = dfTest.shape[0]\n",
    "datos = [csvEntrenamiento, cantidadDatosTrain, csvPrueba, cantidadDatosTest, m, iteraciones, aprendizaje, costo,\n",
    "         exactitudTrain, exactitudTest]\n",
    "nuevaFila =pd.DataFrame([datos],columns=dfInfo.columns)\n",
    "dfInfo = dfInfo.append(nuevaFila, ignore_index=True)\n",
    "dfInfo.to_csv(\"informacion/informacion.csv\",index=False)\n",
    "\n",
    "\n",
    "dfW=pd.DataFrame(w)\n",
    "bArray=np.ones((1,1))*b\n",
    "dfB=pd.DataFrame(bArray)\n",
    "dfModelo=dfW.append(dfB,ignore_index=True)\n",
    "dfModelo.to_csv(\"modelos/modelo{}.csv\".format(num), index=False)"
   ]
  }
 ],
 "metadata": {
  "kernelspec": {
   "display_name": "Python 3",
   "language": "python",
   "name": "python3"
  },
  "language_info": {
   "codemirror_mode": {
    "name": "ipython",
    "version": 3
   },
   "file_extension": ".py",
   "mimetype": "text/x-python",
   "name": "python",
   "nbconvert_exporter": "python",
   "pygments_lexer": "ipython3",
   "version": "3.7.6"
  }
 },
 "nbformat": 4,
 "nbformat_minor": 4
}
