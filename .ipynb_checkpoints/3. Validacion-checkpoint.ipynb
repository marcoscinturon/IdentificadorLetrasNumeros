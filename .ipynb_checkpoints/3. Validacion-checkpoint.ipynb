{
 "cells": [
  {
   "cell_type": "code",
   "execution_count": 1,
   "metadata": {},
   "outputs": [],
   "source": [
    "import numpy as np\n",
    "import pandas as pd"
   ]
  },
  {
   "cell_type": "code",
   "execution_count": 2,
   "metadata": {},
   "outputs": [],
   "source": [
    "def cargarModelo(nombre):\n",
    "    df=pd.read_csv('{}.csv'.format(nombre))\n",
    "    w=df[0:-1].to_numpy()\n",
    "    b=float(df[-1:]['0'].to_string(index=False))\n",
    "    return w,b\n",
    "\n",
    "def propagacionAdelante(w,b,x):\n",
    "    z=np.dot(w.T,x.T)+b\n",
    "    a = 1/(1+np.exp(-z))\n",
    "    return a\n",
    "\n",
    "def predecir(w, b, x):\n",
    "    a=propagacionAdelante(w,b,x)\n",
    "    yPred = np.zeros((1,x.shape[0]))\n",
    "    yPred[a>0.5]=1\n",
    "    return yPred"
   ]
  },
  {
   "cell_type": "code",
   "execution_count": 6,
   "metadata": {},
   "outputs": [
    {
     "name": "stdout",
     "output_type": "stream",
     "text": [
      "la imagen 6 (1) es un número\n",
      "la imagen 6 (2) es un número\n",
      "la imagen 8 (1) es un número\n",
      "la imagen 8 (2) es un número\n",
      "la imagen m (1) es una letra\n",
      "la imagen m (2) es una letra\n",
      "la imagen q (1) es una letra\n",
      "la imagen q (2) es una letra\n"
     ]
    }
   ],
   "source": [
    "df = pd.read_csv(\"datasets/validacion.csv\")\n",
    "df = df.drop([0,1])\n",
    "df = df.reset_index(drop=True)\n",
    "x = df[df.columns[10:25]]\n",
    "x = x.to_numpy().astype(float)\n",
    "\n",
    "w,b = cargarModelo(\"modelos/modelo8\")\n",
    "yPredValidacion = predecir(w,b,x)\n",
    "yPredValidacion = yPredValidacion.reshape(yPredValidacion.shape[1],)\n",
    "\n",
    "for i in range(len(yPredValidacion)):\n",
    "    nombreImagen = df[\"image name\"][i]\n",
    "    if yPredValidacion[i] == 0:\n",
    "        print(\"la imagen {} es un número\".format(nombreImagen))\n",
    "    if yPredValidacion[i] == 1:\n",
    "        print(\"la imagen {} es una letra\".format(nombreImagen))"
   ]
  },
  {
   "cell_type": "code",
   "execution_count": null,
   "metadata": {},
   "outputs": [],
   "source": []
  }
 ],
 "metadata": {
  "kernelspec": {
   "display_name": "Python 3",
   "language": "python",
   "name": "python3"
  },
  "language_info": {
   "codemirror_mode": {
    "name": "ipython",
    "version": 3
   },
   "file_extension": ".py",
   "mimetype": "text/x-python",
   "name": "python",
   "nbconvert_exporter": "python",
   "pygments_lexer": "ipython3",
   "version": "3.7.6"
  }
 },
 "nbformat": 4,
 "nbformat_minor": 4
}
